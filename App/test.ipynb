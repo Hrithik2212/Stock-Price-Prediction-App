{
 "cells": [
  {
   "cell_type": "code",
   "execution_count": 1,
   "metadata": {},
   "outputs": [
    {
     "name": "stderr",
     "output_type": "stream",
     "text": [
      "2022-11-05 14:46:50.164 WARNING tensorflow: Please fix your imports. Module tensorflow.python.training.tracking.base has been moved to tensorflow.python.trackable.base. The old module will be deleted in version 2.11.\n",
      "2022-11-05 14:46:52.420 WARNING tensorflow: Please fix your imports. Module tensorflow.python.training.saving.functional_saver has been moved to tensorflow.python.checkpoint.functional_saver. The old module will be deleted in version 2.11.\n",
      "2022-11-05 14:46:52.420 WARNING tensorflow: Please fix your imports. Module tensorflow.python.training.saving.checkpoint_options has been moved to tensorflow.python.checkpoint.checkpoint_options. The old module will be deleted in version 2.11.\n"
     ]
    }
   ],
   "source": [
    "from modules import *"
   ]
  },
  {
   "cell_type": "code",
   "execution_count": 6,
   "metadata": {},
   "outputs": [
    {
     "data": {
      "text/html": [
       "<div>\n",
       "<style scoped>\n",
       "    .dataframe tbody tr th:only-of-type {\n",
       "        vertical-align: middle;\n",
       "    }\n",
       "\n",
       "    .dataframe tbody tr th {\n",
       "        vertical-align: top;\n",
       "    }\n",
       "\n",
       "    .dataframe thead th {\n",
       "        text-align: right;\n",
       "    }\n",
       "</style>\n",
       "<table border=\"1\" class=\"dataframe\">\n",
       "  <thead>\n",
       "    <tr style=\"text-align: right;\">\n",
       "      <th></th>\n",
       "      <th>Ticker</th>\n",
       "      <th>Name</th>\n",
       "      <th>Exchange</th>\n",
       "      <th>Category Name</th>\n",
       "      <th>Country</th>\n",
       "    </tr>\n",
       "  </thead>\n",
       "  <tbody>\n",
       "    <tr>\n",
       "      <th>0</th>\n",
       "      <td>BHARTIARTL.NS</td>\n",
       "      <td>Bharti Airtel Limited</td>\n",
       "      <td>NSI</td>\n",
       "      <td>Wireless Communications</td>\n",
       "      <td>India</td>\n",
       "    </tr>\n",
       "    <tr>\n",
       "      <th>1</th>\n",
       "      <td>ASHOKLEY.NS</td>\n",
       "      <td>Ashok Leyland Limited</td>\n",
       "      <td>NSI</td>\n",
       "      <td>Auto Manufacturers - Major</td>\n",
       "      <td>India</td>\n",
       "    </tr>\n",
       "    <tr>\n",
       "      <th>2</th>\n",
       "      <td>AUROPHARMA.NS</td>\n",
       "      <td>Aurobindo Pharma Limited</td>\n",
       "      <td>NSI</td>\n",
       "      <td>Drugs - Generic</td>\n",
       "      <td>India</td>\n",
       "    </tr>\n",
       "    <tr>\n",
       "      <th>3</th>\n",
       "      <td>AREXMIS.BO</td>\n",
       "      <td>Arex Industries Ltd.</td>\n",
       "      <td>BSE</td>\n",
       "      <td>NaN</td>\n",
       "      <td>India</td>\n",
       "    </tr>\n",
       "    <tr>\n",
       "      <th>4</th>\n",
       "      <td>SANWARIA.NS</td>\n",
       "      <td>Sanwaria Agro Oils Limited</td>\n",
       "      <td>NSI</td>\n",
       "      <td>Farm Products</td>\n",
       "      <td>India</td>\n",
       "    </tr>\n",
       "  </tbody>\n",
       "</table>\n",
       "</div>"
      ],
      "text/plain": [
       "          Ticker                        Name Exchange  \\\n",
       "0  BHARTIARTL.NS       Bharti Airtel Limited      NSI   \n",
       "1    ASHOKLEY.NS       Ashok Leyland Limited      NSI   \n",
       "2  AUROPHARMA.NS    Aurobindo Pharma Limited      NSI   \n",
       "3     AREXMIS.BO        Arex Industries Ltd.      BSE   \n",
       "4    SANWARIA.NS  Sanwaria Agro Oils Limited      NSI   \n",
       "\n",
       "                Category Name Country  \n",
       "0     Wireless Communications   India  \n",
       "1  Auto Manufacturers - Major   India  \n",
       "2             Drugs - Generic   India  \n",
       "3                         NaN   India  \n",
       "4               Farm Products   India  "
      ]
     },
     "execution_count": 6,
     "metadata": {},
     "output_type": "execute_result"
    }
   ],
   "source": [
    "data = pd.read_csv('Data\\Indian-Stock-Market.csv')\n",
    "data = data.drop(data.columns[0],axis=1)\n",
    "data.head()"
   ]
  },
  {
   "cell_type": "code",
   "execution_count": 7,
   "metadata": {},
   "outputs": [
    {
     "data": {
      "text/html": [
       "<div>\n",
       "<style scoped>\n",
       "    .dataframe tbody tr th:only-of-type {\n",
       "        vertical-align: middle;\n",
       "    }\n",
       "\n",
       "    .dataframe tbody tr th {\n",
       "        vertical-align: top;\n",
       "    }\n",
       "\n",
       "    .dataframe thead th {\n",
       "        text-align: right;\n",
       "    }\n",
       "</style>\n",
       "<table border=\"1\" class=\"dataframe\">\n",
       "  <thead>\n",
       "    <tr style=\"text-align: right;\">\n",
       "      <th></th>\n",
       "      <th>Ticker</th>\n",
       "      <th>Name</th>\n",
       "      <th>Exchange</th>\n",
       "      <th>Category Name</th>\n",
       "      <th>Country</th>\n",
       "    </tr>\n",
       "  </thead>\n",
       "  <tbody>\n",
       "    <tr>\n",
       "      <th>4989</th>\n",
       "      <td>HEROMOTOCO.BO</td>\n",
       "      <td>HERO MOTOCORP LTD.</td>\n",
       "      <td>BSE</td>\n",
       "      <td>NaN</td>\n",
       "      <td>India</td>\n",
       "    </tr>\n",
       "  </tbody>\n",
       "</table>\n",
       "</div>"
      ],
      "text/plain": [
       "             Ticker                Name Exchange Category Name Country\n",
       "4989  HEROMOTOCO.BO  HERO MOTOCORP LTD.      BSE           NaN   India"
      ]
     },
     "execution_count": 7,
     "metadata": {},
     "output_type": "execute_result"
    }
   ],
   "source": [
    "data.sample(1)"
   ]
  },
  {
   "cell_type": "code",
   "execution_count": 10,
   "metadata": {},
   "outputs": [],
   "source": [
    "ss = \"HERO MOTOCORP LTD.\"\n",
    "ticker = data.loc[data['Name']==ss , ['Ticker']]\n"
   ]
  },
  {
   "cell_type": "code",
   "execution_count": 16,
   "metadata": {},
   "outputs": [
    {
     "data": {
      "text/plain": [
       "'HEROMOTOCO.BO'"
      ]
     },
     "execution_count": 16,
     "metadata": {},
     "output_type": "execute_result"
    }
   ],
   "source": [
    "str(ticker.values[0][0])"
   ]
  },
  {
   "cell_type": "code",
   "execution_count": null,
   "metadata": {},
   "outputs": [],
   "source": []
  }
 ],
 "metadata": {
  "kernelspec": {
   "display_name": "Python 3.9.6 64-bit",
   "language": "python",
   "name": "python3"
  },
  "language_info": {
   "codemirror_mode": {
    "name": "ipython",
    "version": 3
   },
   "file_extension": ".py",
   "mimetype": "text/x-python",
   "name": "python",
   "nbconvert_exporter": "python",
   "pygments_lexer": "ipython3",
   "version": "3.9.6"
  },
  "orig_nbformat": 4,
  "vscode": {
   "interpreter": {
    "hash": "0bae745f8ec4217fabcb8fee07d6f0cfda3eab62b76dc08b9184a36fb0012116"
   }
  }
 },
 "nbformat": 4,
 "nbformat_minor": 2
}
